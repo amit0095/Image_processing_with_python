{
 "cells": [
  {
   "cell_type": "code",
   "execution_count": 1,
   "id": "31adf86a",
   "metadata": {},
   "outputs": [],
   "source": [
    "import cv2\n"
   ]
  },
  {
   "cell_type": "code",
   "execution_count": 2,
   "id": "4c9e6504",
   "metadata": {},
   "outputs": [],
   "source": [
    "photo=cv2.imread('00-Divo_BUGATTI.jpg')"
   ]
  },
  {
   "cell_type": "code",
   "execution_count": 3,
   "id": "0d3b88df",
   "metadata": {},
   "outputs": [],
   "source": [
    "cv2.imshow('hi',photo)\n",
    "cv2.waitKey()\n",
    "cv2.destroyAllWindows()"
   ]
  },
  {
   "cell_type": "code",
   "execution_count": 4,
   "id": "2ed59263",
   "metadata": {},
   "outputs": [],
   "source": [
    "import  numpy\n"
   ]
  },
  {
   "cell_type": "code",
   "execution_count": 5,
   "id": "c460d33a",
   "metadata": {},
   "outputs": [],
   "source": [
    "arr=numpy.array([[1,2,3,4],[5,6,7,8,],[9,10,11,12],[13,14,15,16]])\n"
   ]
  },
  {
   "cell_type": "code",
   "execution_count": 6,
   "id": "8e5be1e4",
   "metadata": {},
   "outputs": [
    {
     "data": {
      "text/plain": [
       "array([[ 1,  2,  3,  4],\n",
       "       [ 5,  6,  7,  8],\n",
       "       [ 9, 10, 11, 12],\n",
       "       [13, 14, 15, 16]])"
      ]
     },
     "execution_count": 6,
     "metadata": {},
     "output_type": "execute_result"
    }
   ],
   "source": [
    "arr"
   ]
  },
  {
   "cell_type": "code",
   "execution_count": 7,
   "id": "5f1049f7",
   "metadata": {},
   "outputs": [
    {
     "data": {
      "text/plain": [
       "(4, 4)"
      ]
     },
     "execution_count": 7,
     "metadata": {},
     "output_type": "execute_result"
    }
   ],
   "source": [
    "arr.shape\n"
   ]
  },
  {
   "cell_type": "code",
   "execution_count": 8,
   "id": "4bd81559",
   "metadata": {},
   "outputs": [
    {
     "data": {
      "text/plain": [
       "array([[[214, 210, 205],\n",
       "        [214, 210, 205],\n",
       "        [214, 210, 205],\n",
       "        ...,\n",
       "        [189, 168, 141],\n",
       "        [189, 168, 141],\n",
       "        [189, 168, 141]],\n",
       "\n",
       "       [[214, 210, 205],\n",
       "        [214, 210, 205],\n",
       "        [214, 210, 205],\n",
       "        ...,\n",
       "        [189, 168, 141],\n",
       "        [189, 168, 141],\n",
       "        [189, 168, 141]],\n",
       "\n",
       "       [[214, 210, 205],\n",
       "        [214, 210, 205],\n",
       "        [214, 210, 205],\n",
       "        ...,\n",
       "        [189, 168, 141],\n",
       "        [189, 168, 141],\n",
       "        [189, 168, 141]],\n",
       "\n",
       "       ...,\n",
       "\n",
       "       [[131, 121, 114],\n",
       "        [117, 107, 100],\n",
       "        [118, 108, 101],\n",
       "        ...,\n",
       "        [ 98,  88,  81],\n",
       "        [102,  92,  85],\n",
       "        [105,  95,  88]],\n",
       "\n",
       "       [[136, 126, 119],\n",
       "        [132, 122, 115],\n",
       "        [127, 117, 110],\n",
       "        ...,\n",
       "        [ 94,  84,  77],\n",
       "        [101,  91,  84],\n",
       "        [104,  94,  87]],\n",
       "\n",
       "       [[134, 124, 117],\n",
       "        [153, 143, 136],\n",
       "        [155, 145, 138],\n",
       "        ...,\n",
       "        [ 92,  82,  75],\n",
       "        [100,  90,  83],\n",
       "        [101,  91,  84]]], dtype=uint8)"
      ]
     },
     "execution_count": 8,
     "metadata": {},
     "output_type": "execute_result"
    }
   ],
   "source": [
    "photo\n"
   ]
  },
  {
   "cell_type": "code",
   "execution_count": 9,
   "id": "99abbef5",
   "metadata": {},
   "outputs": [
    {
     "data": {
      "text/plain": [
       "(800, 1540, 3)"
      ]
     },
     "execution_count": 9,
     "metadata": {},
     "output_type": "execute_result"
    }
   ],
   "source": [
    "photo.shape\n"
   ]
  },
  {
   "cell_type": "code",
   "execution_count": 10,
   "id": "2876e501",
   "metadata": {},
   "outputs": [
    {
     "data": {
      "text/plain": [
       "array([214, 210, 205], dtype=uint8)"
      ]
     },
     "execution_count": 10,
     "metadata": {},
     "output_type": "execute_result"
    }
   ],
   "source": [
    "photo[0][0]"
   ]
  },
  {
   "cell_type": "code",
   "execution_count": 11,
   "id": "a7ba9e7c",
   "metadata": {},
   "outputs": [],
   "source": [
    "photo[0][0]=[0,255,0]"
   ]
  },
  {
   "cell_type": "code",
   "execution_count": 12,
   "id": "1b5c747c",
   "metadata": {},
   "outputs": [
    {
     "data": {
      "text/plain": [
       "array([  0, 255,   0], dtype=uint8)"
      ]
     },
     "execution_count": 12,
     "metadata": {},
     "output_type": "execute_result"
    }
   ],
   "source": [
    "photo[0][0]"
   ]
  },
  {
   "cell_type": "code",
   "execution_count": 13,
   "id": "deb51292",
   "metadata": {},
   "outputs": [],
   "source": [
    "cv2.imshow('hi',photo)\n",
    "cv2.waitKey()\n",
    "cv2.destroyAllWindows()"
   ]
  },
  {
   "cell_type": "code",
   "execution_count": 14,
   "id": "ea81545f",
   "metadata": {},
   "outputs": [
    {
     "data": {
      "text/plain": [
       "array([[ 6,  7],\n",
       "       [10, 11]])"
      ]
     },
     "execution_count": 14,
     "metadata": {},
     "output_type": "execute_result"
    }
   ],
   "source": [
    "arr[1:3,1:3]"
   ]
  },
  {
   "cell_type": "code",
   "execution_count": 15,
   "id": "9548c552",
   "metadata": {},
   "outputs": [],
   "source": [
    "cpphoto=photo[500:800,400:1000]"
   ]
  },
  {
   "cell_type": "code",
   "execution_count": 16,
   "id": "ed405365",
   "metadata": {},
   "outputs": [
    {
     "data": {
      "text/plain": [
       "array([[[  8,   2,   0],\n",
       "        [ 14,   9,   0],\n",
       "        [ 19,  14,   5],\n",
       "        ...,\n",
       "        [ 24,  26,  44],\n",
       "        [ 30,  33,  54],\n",
       "        [ 34,  39,  64]],\n",
       "\n",
       "       [[ 98,  91,  82],\n",
       "        [152, 143, 133],\n",
       "        [200, 191, 182],\n",
       "        ...,\n",
       "        [ 22,  25,  40],\n",
       "        [ 24,  28,  47],\n",
       "        [ 25,  31,  54]],\n",
       "\n",
       "       [[198, 188, 178],\n",
       "        [227, 215, 203],\n",
       "        [241, 229, 219],\n",
       "        ...,\n",
       "        [ 26,  27,  41],\n",
       "        [ 25,  27,  45],\n",
       "        [ 22,  27,  48]],\n",
       "\n",
       "       ...,\n",
       "\n",
       "       [[ 96,  87,  83],\n",
       "        [101,  92,  88],\n",
       "        [106,  97,  93],\n",
       "        ...,\n",
       "        [  5,   5,   5],\n",
       "        [  5,   5,   5],\n",
       "        [  5,   5,   5]],\n",
       "\n",
       "       [[106,  97,  93],\n",
       "        [108,  99,  95],\n",
       "        [110, 101,  97],\n",
       "        ...,\n",
       "        [  7,   7,   7],\n",
       "        [  7,   7,   7],\n",
       "        [  7,   7,   7]],\n",
       "\n",
       "       [[113, 104, 100],\n",
       "        [109, 100,  96],\n",
       "        [106,  97,  93],\n",
       "        ...,\n",
       "        [  7,   7,   7],\n",
       "        [  7,   7,   7],\n",
       "        [  7,   7,   7]]], dtype=uint8)"
      ]
     },
     "execution_count": 16,
     "metadata": {},
     "output_type": "execute_result"
    }
   ],
   "source": [
    "cpphoto\n"
   ]
  },
  {
   "cell_type": "code",
   "execution_count": 17,
   "id": "e66861fd",
   "metadata": {},
   "outputs": [],
   "source": [
    "cv2.imshow('hi',cpphoto)\n",
    "cv2.waitKey()\n",
    "cv2.destroyAllWindows()"
   ]
  },
  {
   "cell_type": "code",
   "execution_count": 18,
   "id": "0bbc1f05",
   "metadata": {},
   "outputs": [],
   "source": [
    "cn=numpy.zeros((200,300))"
   ]
  },
  {
   "cell_type": "code",
   "execution_count": 19,
   "id": "5ffb9b85",
   "metadata": {},
   "outputs": [
    {
     "data": {
      "text/plain": [
       "array([[0., 0., 0., ..., 0., 0., 0.],\n",
       "       [0., 0., 0., ..., 0., 0., 0.],\n",
       "       [0., 0., 0., ..., 0., 0., 0.],\n",
       "       ...,\n",
       "       [0., 0., 0., ..., 0., 0., 0.],\n",
       "       [0., 0., 0., ..., 0., 0., 0.],\n",
       "       [0., 0., 0., ..., 0., 0., 0.]])"
      ]
     },
     "execution_count": 19,
     "metadata": {},
     "output_type": "execute_result"
    }
   ],
   "source": [
    "cn\n"
   ]
  },
  {
   "cell_type": "code",
   "execution_count": 20,
   "id": "7577ff64",
   "metadata": {},
   "outputs": [],
   "source": [
    "cv2.imshow('hi',cn)\n",
    "cv2.waitKey()\n",
    "cv2.destroyAllWindows()"
   ]
  },
  {
   "cell_type": "code",
   "execution_count": 21,
   "id": "bab4751a",
   "metadata": {},
   "outputs": [
    {
     "data": {
      "text/plain": [
       "6"
      ]
     },
     "execution_count": 21,
     "metadata": {},
     "output_type": "execute_result"
    }
   ],
   "source": [
    "cv2.COLOR_BGR2GRAY"
   ]
  },
  {
   "cell_type": "code",
   "execution_count": 22,
   "id": "69a43d02",
   "metadata": {},
   "outputs": [],
   "source": [
    "gphoto=cv2.cvtColor(photo,cv2.COLOR_BGR2GRAY )"
   ]
  },
  {
   "cell_type": "code",
   "execution_count": 23,
   "id": "66e719ff",
   "metadata": {},
   "outputs": [
    {
     "data": {
      "text/plain": [
       "array([[150, 209, 209, ..., 162, 162, 162],\n",
       "       [209, 209, 209, ..., 162, 162, 162],\n",
       "       [209, 209, 209, ..., 162, 162, 162],\n",
       "       ...,\n",
       "       [120, 106, 107, ...,  87,  91,  94],\n",
       "       [125, 121, 116, ...,  83,  90,  93],\n",
       "       [123, 142, 144, ...,  81,  89,  90]], dtype=uint8)"
      ]
     },
     "execution_count": 23,
     "metadata": {},
     "output_type": "execute_result"
    }
   ],
   "source": [
    "gphoto"
   ]
  },
  {
   "cell_type": "code",
   "execution_count": 24,
   "id": "78d9be1e",
   "metadata": {},
   "outputs": [],
   "source": [
    "cv2.imshow('hi',gphoto)\n",
    "cv2.waitKey()\n",
    "cv2.destroyAllWindows()"
   ]
  },
  {
   "cell_type": "code",
   "execution_count": 25,
   "id": "27a7de9b",
   "metadata": {},
   "outputs": [
    {
     "data": {
      "text/plain": [
       "(800, 1540)"
      ]
     },
     "execution_count": 25,
     "metadata": {},
     "output_type": "execute_result"
    }
   ],
   "source": [
    "gphoto.shape"
   ]
  },
  {
   "cell_type": "code",
   "execution_count": null,
   "id": "eec736b5",
   "metadata": {},
   "outputs": [],
   "source": []
  }
 ],
 "metadata": {
  "kernelspec": {
   "display_name": "Python 3",
   "language": "python",
   "name": "python3"
  },
  "language_info": {
   "codemirror_mode": {
    "name": "ipython",
    "version": 3
   },
   "file_extension": ".py",
   "mimetype": "text/x-python",
   "name": "python",
   "nbconvert_exporter": "python",
   "pygments_lexer": "ipython3",
   "version": "3.8.8"
  }
 },
 "nbformat": 4,
 "nbformat_minor": 5
}
